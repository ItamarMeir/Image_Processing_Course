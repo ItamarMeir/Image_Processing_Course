{
  "nbformat": 4,
  "nbformat_minor": 0,
  "metadata": {
    "colab": {
      "provenance": []
    },
    "kernelspec": {
      "name": "python3",
      "display_name": "Python 3"
    },
    "language_info": {
      "name": "python"
    }
  },
  "cells": [
    {
      "cell_type": "code",
      "source": [
        "print(\"full_name1 id:1234567\\nfull_name2 id:7654321\") # TODO - CHANGE TO YOUR NAMES AND IDs"
      ],
      "metadata": {
        "id": "H7f1TfVRcI2w"
      },
      "execution_count": null,
      "outputs": []
    },
    {
      "cell_type": "markdown",
      "source": [
        "#**Introduction to Digital Image Processing**\n",
        "#**Course Code: 361.1.4751**\n",
        "###**Exercise 1 - BASIC IMAGE OPERATIONS**\n",
        "\n",
        "For any questions regarding this assignment, please refer to the course forum on the Moodle website. For personal questions **only**, please email  [thomasm@post.bgu.ac.il](mailto:thomasm@post.bgu.ac.il)."
      ],
      "metadata": {
        "id": "z3hzT-Bg7Gu8"
      }
    },
    {
      "cell_type": "markdown",
      "source": [
        "Now that your notebook is set up, we can load the data into the notebook. The code below load the data through mounting Google Drive.\n",
        "Copy the attached files to your drive and make sure that you save the images outputs also on your drive.   \n",
        "\n",
        "Here are some resources to help you get started:\n",
        "\n",
        "- http://colab.research.google.com/notebooks/io.ipynb"
      ],
      "metadata": {
        "id": "o5p6RblnaduL"
      }
    },
    {
      "cell_type": "code",
      "source": [
        "from google.colab import drive\n",
        "drive.mount('/content/drive')\n",
        "drive_path = '/content/drive/MyDrive/IntroductionToDigitalImageProcessing/EX1_images' # TODO - UPDATE ME WITH THE TRUE PATH!"
      ],
      "metadata": {
        "id": "42Pqc-uB9QQd"
      },
      "execution_count": null,
      "outputs": []
    },
    {
      "cell_type": "code",
      "execution_count": null,
      "metadata": {
        "id": "9SjaT8M36_4c"
      },
      "outputs": [],
      "source": [
        "import cv2\n",
        "import numpy as np\n",
        "import matplotlib.pyplot as plt"
      ]
    },
    {
      "cell_type": "markdown",
      "source": [
        "## **1. Histogram Manipulation**"
      ],
      "metadata": {
        "id": "fNaUs7FE_7pw"
      }
    },
    {
      "cell_type": "markdown",
      "source": [
        "### **1.1 Reading the Image**\n",
        "\n",
        "\n",
        "1.   Read the image named picasso.jpg and transform it into a grayscale image of type double using cv2.cvtColor() with cv2.COLOR_BGR2GRAY and np.float64()."
      ],
      "metadata": {
        "id": "zgXjOrS49h1d"
      }
    },
    {
      "cell_type": "code",
      "source": [],
      "metadata": {
        "id": "iwM7teea-1Um"
      },
      "execution_count": null,
      "outputs": []
    },
    {
      "cell_type": "markdown",
      "source": [
        "\n",
        "2.   Display the image using plt.imshow() and set the parameter cmap to gray. Add a colorbar to the image.\n",
        "\n"
      ],
      "metadata": {
        "id": "Nu54MpIc-07E"
      }
    },
    {
      "cell_type": "code",
      "source": [],
      "metadata": {
        "id": "6zdRoYnB-Jj4"
      },
      "execution_count": null,
      "outputs": []
    },
    {
      "cell_type": "markdown",
      "source": [
        "3. Write your own function named dip_GN_imread(file_name) that will return a normalized grayscale image. Read the image using Python’s cv2.imread() function, transform it into a grayscale of type double using cv2.cvtColor() with cv2.COLOR_BGR2GRAY and np.float64(). Normalize the image between [0, 1] using:\n",
        "\n",
        "$$\n",
        "\\frac{img - \\text{np.min}(img)}{\\text{np.max}(img) - \\text{np.min}(img)}\n",
        "$$\n",
        "\n",
        "We will use this function from section 1.3"
      ],
      "metadata": {
        "id": "T0029FYB-8-0"
      }
    },
    {
      "cell_type": "code",
      "source": [],
      "metadata": {
        "id": "sEIkeUiJ_FYe"
      },
      "execution_count": null,
      "outputs": []
    },
    {
      "cell_type": "markdown",
      "source": [
        "### **1.2 Histogram Construction**\n",
        "Use the above grayscale picasso image (not the normalized) for the following sections:\n",
        "1. Write your own function named dip_histogram(img, nbins) that will return\n",
        "the histogram of the image ’img’ using ’nbins’ bins."
      ],
      "metadata": {
        "id": "R9D5FBsGE5Ft"
      }
    },
    {
      "cell_type": "code",
      "source": [],
      "metadata": {
        "id": "1911IvDBK9Jy"
      },
      "execution_count": null,
      "outputs": []
    },
    {
      "cell_type": "markdown",
      "source": [
        "2. Display the generated histogram using 256 bins. Compare your result to Python’s np.histogram() function (use a quan-\n",
        "titative measurement). Explain the results.\n",
        "\n",
        "Note: Here, you can use the  np.histogram() functions only for\n",
        "checking your answer."
      ],
      "metadata": {
        "id": "yOYdyPZEK8iK"
      }
    },
    {
      "cell_type": "code",
      "source": [],
      "metadata": {
        "id": "7YnEu0gjLc0O"
      },
      "execution_count": null,
      "outputs": []
    },
    {
      "cell_type": "markdown",
      "source": [
        "### **1.3 Brightness**\n",
        "From now on, use the normalized gray scale image version of picasso.jpg using the dip_GN_imread(file_name) function.\n",
        "1. Write your own function named adjust_brightness(img, action, parameter)\n",
        "in which ’action’ could get either ’mul’ for multiplication or ’add ’ for\n",
        "addition. Adjust the brightness of ’img’ using the ’parameter’. The output\n",
        "of the function will be the modified image. The output of the function\n",
        "will be the modified image. Make sure the output image stay in the [0, 1]\n",
        "range."
      ],
      "metadata": {
        "id": "rTdb8CD9LdLd"
      }
    },
    {
      "cell_type": "code",
      "source": [],
      "metadata": {
        "id": "m302au7VL3ST"
      },
      "execution_count": null,
      "outputs": []
    },
    {
      "cell_type": "markdown",
      "source": [
        "2. Display the original gray scale image together with **one** adjusted image of increased or decreased brightness. Explain the results."
      ],
      "metadata": {
        "id": "BMGQeoPxL3np"
      }
    },
    {
      "cell_type": "code",
      "source": [],
      "metadata": {
        "id": "XikORyheMD8H"
      },
      "execution_count": null,
      "outputs": []
    },
    {
      "cell_type": "markdown",
      "source": [
        "### **1.4 Contrast**\n",
        "\n",
        "1. Write your own function named adjust_contrast(img,range_low,range_high)\n",
        "that will change the contrast of the image ’img’ and in which the range_low,range_high\n",
        "parameters will determine the new dynamic range of modified image. The\n",
        "output of the function will be the modified image. You should use linear\n",
        "mapping."
      ],
      "metadata": {
        "id": "1rrWm494MFhG"
      }
    },
    {
      "cell_type": "code",
      "source": [],
      "metadata": {
        "id": "dK9LazN1MoUs"
      },
      "execution_count": null,
      "outputs": []
    },
    {
      "cell_type": "markdown",
      "source": [
        "2. Calculate the modified image for a new dynamic ranges of [0.45, 0.9] and\n",
        "[0.4, 0.5] and display the images and corresponding histograms. Explain\n",
        "the effect of each new range."
      ],
      "metadata": {
        "id": "cJitjIpgMovG"
      }
    },
    {
      "cell_type": "code",
      "source": [],
      "metadata": {
        "id": "P92Tm5EBM_YY"
      },
      "execution_count": null,
      "outputs": []
    },
    {
      "cell_type": "markdown",
      "source": [
        "### **1.5 Quantization**\n",
        "\n",
        "Quantize the original gray scale image using 4bit and 1bit. Explain the results."
      ],
      "metadata": {
        "id": "aTOUiDCQM_36"
      }
    },
    {
      "cell_type": "code",
      "source": [],
      "metadata": {
        "id": "WuVkyZptNJKo"
      },
      "execution_count": null,
      "outputs": []
    },
    {
      "cell_type": "markdown",
      "source": [
        "### **1.6 Histogram Equalization**\n",
        "\n",
        "1. Read the image named dog.jpg ,transform it into a gray scale image of type\n",
        "double and normalize it between [0, 1] using dip_GN_imread(file_name)"
      ],
      "metadata": {
        "id": "rwxnbLaFNJat"
      }
    },
    {
      "cell_type": "code",
      "source": [],
      "metadata": {
        "id": "3pBV3rHvNVAp"
      },
      "execution_count": null,
      "outputs": []
    },
    {
      "cell_type": "markdown",
      "source": [
        "2. Use the Python’s cv2.equalizeHist() to apply the histogram equalization on the image ."
      ],
      "metadata": {
        "id": "xS_fxelyNVgj"
      }
    },
    {
      "cell_type": "code",
      "source": [],
      "metadata": {
        "id": "OeRllHTlNvx8"
      },
      "execution_count": null,
      "outputs": []
    },
    {
      "cell_type": "markdown",
      "source": [
        "3. Display the new image and the corresponding histogram."
      ],
      "metadata": {
        "id": "YskcljqPNwEh"
      }
    },
    {
      "cell_type": "code",
      "source": [],
      "metadata": {
        "id": "AkxUbXiAN005"
      },
      "execution_count": null,
      "outputs": []
    },
    {
      "cell_type": "markdown",
      "source": [
        "4. Why histogram equalization fail in enhance the image?"
      ],
      "metadata": {
        "id": "0pKZxoymN1Dm"
      }
    },
    {
      "cell_type": "markdown",
      "source": [
        "### **1.7 Histogram Matching - Optional Section**\n",
        "\n",
        "1. Take an image using your camera/phone/computer, read the image and\n",
        "transform it into a gray scale image of type double and normalize it be-\n",
        "tween [0, 1] using dip_GN_imread(file_name) function."
      ],
      "metadata": {
        "id": "run4sUTHOBLZ"
      }
    },
    {
      "cell_type": "code",
      "source": [],
      "metadata": {
        "id": "Di6VS2f6OleO"
      },
      "execution_count": null,
      "outputs": []
    },
    {
      "cell_type": "markdown",
      "source": [
        "2. Read the image named city.jpg and transform it into a gray scale image of\n",
        "type double and normalize it between [0, 1] using dip_GN_imread(file_name)."
      ],
      "metadata": {
        "id": "meJN5OTrOl0J"
      }
    },
    {
      "cell_type": "code",
      "source": [],
      "metadata": {
        "id": "cA819anKOriB"
      },
      "execution_count": null,
      "outputs": []
    },
    {
      "cell_type": "markdown",
      "source": [
        "3. Read the image named face.jpg ,cast it into a double type and normalize\n",
        "it between [0, 1]."
      ],
      "metadata": {
        "id": "xayYM5phOrx2"
      }
    },
    {
      "cell_type": "code",
      "source": [],
      "metadata": {
        "id": "s6IKbpDDO0l4"
      },
      "execution_count": null,
      "outputs": []
    },
    {
      "cell_type": "markdown",
      "source": [
        "4. Display all the three images and their corresponding histograms."
      ],
      "metadata": {
        "id": "foH0GKXCO04B"
      }
    },
    {
      "cell_type": "code",
      "source": [],
      "metadata": {
        "id": "4dmc9ePoO5TY"
      },
      "execution_count": null,
      "outputs": []
    },
    {
      "cell_type": "markdown",
      "source": [
        "5. Use the Python function skimage.exposure.match_histograms() to match the histogram of your image to the histogram of face.jpg and city.jpg."
      ],
      "metadata": {
        "id": "SzZb6hLXO5qU"
      }
    },
    {
      "cell_type": "code",
      "source": [
        "from skimage.exposure import match_histograms"
      ],
      "metadata": {
        "id": "uLTniklRPH3A"
      },
      "execution_count": null,
      "outputs": []
    },
    {
      "cell_type": "markdown",
      "source": [
        "6. Display the new images and their corresponding histograms."
      ],
      "metadata": {
        "id": "w-UP6xKRPIHf"
      }
    },
    {
      "cell_type": "code",
      "source": [],
      "metadata": {
        "id": "FOLYIlMCPMDy"
      },
      "execution_count": null,
      "outputs": []
    },
    {
      "cell_type": "markdown",
      "source": [
        "7. Explain the results. In your explanation, consider the quality of the new\n",
        "images."
      ],
      "metadata": {
        "id": "igW8IcyiPMSM"
      }
    },
    {
      "cell_type": "markdown",
      "source": [
        "## **2. Spatial Filters and Noise**"
      ],
      "metadata": {
        "id": "6b916dM2Pj-A"
      }
    },
    {
      "cell_type": "markdown",
      "source": [
        "### **2.1 Read the Image**\n",
        "Read the image named dog.jpg and transform it into a gray scale normalized\n",
        "image in the range [0, 1] using dip_GN_imread(file_name). Use this image\n",
        "from now on."
      ],
      "metadata": {
        "id": "dm4wit33PlFZ"
      }
    },
    {
      "cell_type": "code",
      "source": [],
      "metadata": {
        "id": "VtnkIayZPzc8"
      },
      "execution_count": null,
      "outputs": []
    },
    {
      "cell_type": "markdown",
      "source": [
        "### **2.2 Mean vs Median Filter**\n",
        "\n",
        "1.  Write a function named mean_filter(img, k) that will apply a 2-D k-by-k\n",
        "mean filter on the image ’img’. Make sure that the size of the output\n",
        "image is the same as the input image. Find a method to address the\n",
        "boundaries and explain how you implemented it."
      ],
      "metadata": {
        "id": "i-FhKyRQPzu2"
      }
    },
    {
      "cell_type": "code",
      "source": [],
      "metadata": {
        "id": "UJWh0mHQQkNA"
      },
      "execution_count": null,
      "outputs": []
    },
    {
      "cell_type": "markdown",
      "source": [
        "2. Write a function named median_filter(img, k)\n",
        "that will apply a 2-D k-by-k median filter on the image ’img’. Make sure\n",
        "that the size of the output image is the same as the input image. Find a\n",
        "method to deal with the boundaries."
      ],
      "metadata": {
        "id": "T-QY49fEQkjZ"
      }
    },
    {
      "cell_type": "code",
      "source": [],
      "metadata": {
        "id": "zALHm7vyR45L"
      },
      "execution_count": null,
      "outputs": []
    },
    {
      "cell_type": "markdown",
      "source": [
        "3. Filter the dog.jpg image using the functions above for k=3, 9, display the results and explain the results (refer to median vs. mean and the\n",
        "kernel size effect )."
      ],
      "metadata": {
        "id": "SRJKCOQ2R5cp"
      }
    },
    {
      "cell_type": "code",
      "source": [],
      "metadata": {
        "id": "P-y9zyKTSRkj"
      },
      "execution_count": null,
      "outputs": []
    },
    {
      "cell_type": "markdown",
      "source": [
        "### **2.3 Gaussian Filter**\n",
        "\n",
        "1.  Write a function named dip_gaussian_filter(img, k, sigma) that will ap-\n",
        "ply a 2-D k-by-k Gaussian filter on the image ’img’. The smoothing kernel\n",
        "should be with covariance matrix of\n",
        "   $$\n",
        "   \\begin{bmatrix}\n",
        "   \\sigma & 0 \\\\\n",
        "   0 & \\sigma\n",
        "   \\end{bmatrix}\n",
        "   $$\n",
        "Hint: use np.meshgrid() function in Python to create the grid and apply the Gaussian formula on the grid to create\n",
        "your kernel."
      ],
      "metadata": {
        "id": "n6TkCM5wSSFF"
      }
    },
    {
      "cell_type": "code",
      "source": [],
      "metadata": {
        "id": "NF4YmEw0SgWV"
      },
      "execution_count": null,
      "outputs": []
    },
    {
      "cell_type": "markdown",
      "source": [
        "2. Display the filtered images using (k, sigma) = (3, 0.2), (3, 1.7), (9,0.2). Briefly explain your results."
      ],
      "metadata": {
        "id": "WvxS0N9iSgld"
      }
    },
    {
      "cell_type": "code",
      "source": [],
      "metadata": {
        "id": "lqPIqlpvSiJs"
      },
      "execution_count": null,
      "outputs": []
    },
    {
      "cell_type": "markdown",
      "source": [
        "3. Subtract the original image from one of the filtered images. Display\n",
        "the new image using  Python’s plt.imshow() . Explain what you see."
      ],
      "metadata": {
        "id": "yiPF7ASGSiYq"
      }
    },
    {
      "cell_type": "code",
      "source": [],
      "metadata": {
        "id": "Um73JlyfSjz3"
      },
      "execution_count": null,
      "outputs": []
    },
    {
      "cell_type": "markdown",
      "source": [
        "### **2.4 Noise Filtering**\n",
        "\n",
        "1.  Create 2 new images by adding 2 different kinds of noises to the original image using Python’s skimage.util.random_noise()\n",
        "function. The noises are: ’salt & pepper’, ’gaussian’."
      ],
      "metadata": {
        "id": "RkfGwGP_SkBE"
      }
    },
    {
      "cell_type": "code",
      "source": [
        "from skimag.util import random_noise"
      ],
      "metadata": {
        "id": "0HwQkvSTSpXv"
      },
      "execution_count": null,
      "outputs": []
    },
    {
      "cell_type": "markdown",
      "source": [
        "2. Apply the implemented filters on each of the noisy images. Use kernel\n",
        "sizes of 3x3 and 9x9 for mean, median and gaussian filters. Display only\n",
        "the best filter result for each noisy image."
      ],
      "metadata": {
        "id": "p-OPW7nqSpon"
      }
    },
    {
      "cell_type": "code",
      "source": [],
      "metadata": {
        "id": "lQd4Aa3dSqjg"
      },
      "execution_count": null,
      "outputs": []
    },
    {
      "cell_type": "markdown",
      "source": [
        "3. Briefly explain your results. What is the effect of each filter on each noise?\n",
        "Which is the best filter for any given noise? what kernel size work the best?\n",
        "What are the pros and cons of each filter?"
      ],
      "metadata": {
        "id": "_Nml2_RiSqxT"
      }
    },
    {
      "cell_type": "markdown",
      "source": [
        "## **3. Bonus Question**\n",
        "Choose a noisy image (you can \"trash\" a clean image or start with noisy one) as\n",
        "you wish and try to fix it using the histogram manipulation and filters. You are\n",
        "more then welcome to use other ways. Display the initial image together with\n",
        "the modified image in the document. Be creative! One of the images will\n",
        "be chosen by the course staff and it’s authors will receive 0.5 bonus\n",
        "point to the final grade. The staff will judge by the visual result, originality\n",
        "and the code. Explain!"
      ],
      "metadata": {
        "id": "XBF7WdMCSsCc"
      }
    },
    {
      "cell_type": "code",
      "source": [],
      "metadata": {
        "id": "feHmORZafl-5"
      },
      "execution_count": null,
      "outputs": []
    }
  ]
}